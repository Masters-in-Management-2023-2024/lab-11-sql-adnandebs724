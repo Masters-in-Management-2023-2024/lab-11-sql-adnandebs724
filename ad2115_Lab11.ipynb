{
  "nbformat": 4,
  "nbformat_minor": 0,
  "metadata": {
    "colab": {
      "provenance": []
    },
    "kernelspec": {
      "name": "python3",
      "display_name": "Python 3"
    },
    "language_info": {
      "name": "python"
    }
  },
  "cells": [
    {
      "cell_type": "code",
      "source": [
        "import polars as pl\n",
        "\n",
        "CSV_OPTS = dict(\n",
        "    null_values=[\"NA\"],\n",
        "    ignore_errors=False,\n",
        "    infer_schema_length=10000\n",
        ")\n",
        "\n",
        "airlines = pl.read_csv(\n",
        "    'https://raw.githubusercontent.com/philhetzel/opan5510-class11/refs/heads/main/data/nyc_airlines.csv',\n",
        "    **CSV_OPTS\n",
        ")\n",
        "airports = pl.read_csv(\n",
        "    'https://raw.githubusercontent.com/philhetzel/opan5510-class11/refs/heads/main/data/nyc_airports.csv',\n",
        "    **CSV_OPTS\n",
        ")\n",
        "flights  = pl.read_csv(\n",
        "    'https://raw.githubusercontent.com/philhetzel/opan5510-class11/refs/heads/main/data/nyc_flights.csv',\n",
        "    **CSV_OPTS\n",
        ")\n",
        "planes   = pl.read_csv(\n",
        "    'https://raw.githubusercontent.com/philhetzel/opan5510-class11/refs/heads/main/data/nyc_planes.csv',\n",
        "    **CSV_OPTS\n",
        ")\n",
        "weather  = pl.read_csv(\n",
        "    'https://raw.githubusercontent.com/philhetzel/opan5510-class11/refs/heads/main/data/nyc_weather.csv',\n",
        "    **CSV_OPTS\n",
        ")\n",
        "\n",
        "flights = flights.with_columns(pl.col(\"time_hour\").str.strptime(pl.Datetime, strict=False))\n",
        "weather = weather.with_columns(pl.col(\"time_hour\").str.strptime(pl.Datetime, strict=False))\n",
        "\n",
        "ctx = pl.SQLContext(\n",
        "    airlines=airlines,\n",
        "    airports=airports,\n",
        "    flights=flights,\n",
        "    planes=planes,\n",
        "    weather=weather,\n",
        "    eager_execution=True,\n",
        ")\n",
        "\n",
        "print(\"Setup complete! Tables available:\")\n",
        "print(ctx.execute(\"SHOW TABLES\"))"
      ],
      "metadata": {
        "colab": {
          "base_uri": "https://localhost:8080/"
        },
        "id": "ho66rr8dxUq7",
        "outputId": "e861d309-1619-4a8d-a3d7-528df927d2cc"
      },
      "execution_count": 14,
      "outputs": [
        {
          "output_type": "stream",
          "name": "stdout",
          "text": [
            "Setup complete! Tables available:\n",
            "shape: (5, 1)\n",
            "┌──────────┐\n",
            "│ name     │\n",
            "│ ---      │\n",
            "│ str      │\n",
            "╞══════════╡\n",
            "│ airlines │\n",
            "│ airports │\n",
            "│ flights  │\n",
            "│ planes   │\n",
            "│ weather  │\n",
            "└──────────┘\n"
          ]
        },
        {
          "output_type": "stream",
          "name": "stderr",
          "text": [
            "/tmp/ipython-input-3825821825.py:33: DeprecationWarning: The argument `eager_execution` for `SQLContext.__init__` is deprecated. It has been renamed to `eager`.\n",
            "  ctx = pl.SQLContext(\n"
          ]
        }
      ]
    },
    {
      "cell_type": "code",
      "source": [
        "result = ctx.execute(\"\"\"\n",
        "SELECT DISTINCT carrier, name\n",
        "FROM airlines\n",
        "ORDER BY carrier\n",
        "\"\"\")\n",
        "print(result)"
      ],
      "metadata": {
        "colab": {
          "base_uri": "https://localhost:8080/"
        },
        "id": "gniB0dEtxxEq",
        "outputId": "626d3b11-266b-4590-9bf5-371b03647e7a"
      },
      "execution_count": 15,
      "outputs": [
        {
          "output_type": "stream",
          "name": "stdout",
          "text": [
            "shape: (16, 2)\n",
            "┌─────────┬────────────────────────┐\n",
            "│ carrier ┆ name                   │\n",
            "│ ---     ┆ ---                    │\n",
            "│ str     ┆ str                    │\n",
            "╞═════════╪════════════════════════╡\n",
            "│ 9E      ┆ Endeavor Air Inc.      │\n",
            "│ AA      ┆ American Airlines Inc. │\n",
            "│ AS      ┆ Alaska Airlines Inc.   │\n",
            "│ B6      ┆ JetBlue Airways        │\n",
            "│ DL      ┆ Delta Air Lines Inc.   │\n",
            "│ …       ┆ …                      │\n",
            "│ UA      ┆ United Air Lines Inc.  │\n",
            "│ US      ┆ US Airways Inc.        │\n",
            "│ VX      ┆ Virgin America         │\n",
            "│ WN      ┆ Southwest Airlines Co. │\n",
            "│ YV      ┆ Mesa Airlines Inc.     │\n",
            "└─────────┴────────────────────────┘\n"
          ]
        }
      ]
    },
    {
      "cell_type": "code",
      "source": [
        "result = ctx.execute(\"\"\"\n",
        "SELECT\n",
        "  dest,\n",
        "  COUNT(*) AS num_flights\n",
        "FROM flights\n",
        "GROUP BY dest\n",
        "ORDER BY num_flights DESC\n",
        "LIMIT 10\n",
        "\"\"\")\n",
        "print(result)"
      ],
      "metadata": {
        "colab": {
          "base_uri": "https://localhost:8080/"
        },
        "id": "EwBM3SihxyZz",
        "outputId": "4833a333-1363-4715-e464-8b95d2279338"
      },
      "execution_count": 16,
      "outputs": [
        {
          "output_type": "stream",
          "name": "stdout",
          "text": [
            "shape: (10, 2)\n",
            "┌──────┬─────────────┐\n",
            "│ dest ┆ num_flights │\n",
            "│ ---  ┆ ---         │\n",
            "│ str  ┆ u32         │\n",
            "╞══════╪═════════════╡\n",
            "│ ORD  ┆ 17283       │\n",
            "│ ATL  ┆ 17215       │\n",
            "│ LAX  ┆ 16174       │\n",
            "│ BOS  ┆ 15508       │\n",
            "│ MCO  ┆ 14082       │\n",
            "│ CLT  ┆ 14064       │\n",
            "│ SFO  ┆ 13331       │\n",
            "│ FLL  ┆ 12055       │\n",
            "│ MIA  ┆ 11728       │\n",
            "│ DCA  ┆ 9705        │\n",
            "└──────┴─────────────┘\n"
          ]
        }
      ]
    },
    {
      "cell_type": "code",
      "source": [
        "result = ctx.execute(\"\"\"\n",
        "SELECT\n",
        "  year, month, day, dep_time, sched_dep_time,\n",
        "  dep_delay, carrier, flight, origin, dest, tailnum\n",
        "FROM flights\n",
        "WHERE dep_delay > 120\n",
        "ORDER BY dep_delay DESC\n",
        "\"\"\")\n",
        "print(result)"
      ],
      "metadata": {
        "colab": {
          "base_uri": "https://localhost:8080/"
        },
        "id": "dQUkS_JVx0oh",
        "outputId": "5548c7b3-fa36-4f47-9d0b-cc438138bc33"
      },
      "execution_count": 17,
      "outputs": [
        {
          "output_type": "stream",
          "name": "stdout",
          "text": [
            "shape: (9_723, 11)\n",
            "┌──────┬───────┬─────┬──────────┬───┬────────┬────────┬──────┬─────────┐\n",
            "│ year ┆ month ┆ day ┆ dep_time ┆ … ┆ flight ┆ origin ┆ dest ┆ tailnum │\n",
            "│ ---  ┆ ---   ┆ --- ┆ ---      ┆   ┆ ---    ┆ ---    ┆ ---  ┆ ---     │\n",
            "│ i64  ┆ i64   ┆ i64 ┆ i64      ┆   ┆ i64    ┆ str    ┆ str  ┆ str     │\n",
            "╞══════╪═══════╪═════╪══════════╪═══╪════════╪════════╪══════╪═════════╡\n",
            "│ 2013 ┆ 1     ┆ 9   ┆ 641      ┆ … ┆ 51     ┆ JFK    ┆ HNL  ┆ N384HA  │\n",
            "│ 2013 ┆ 6     ┆ 15  ┆ 1432     ┆ … ┆ 3535   ┆ JFK    ┆ CMH  ┆ N504MQ  │\n",
            "│ 2013 ┆ 1     ┆ 10  ┆ 1121     ┆ … ┆ 3695   ┆ EWR    ┆ ORD  ┆ N517MQ  │\n",
            "│ 2013 ┆ 9     ┆ 20  ┆ 1139     ┆ … ┆ 177    ┆ JFK    ┆ SFO  ┆ N338AA  │\n",
            "│ 2013 ┆ 7     ┆ 22  ┆ 845      ┆ … ┆ 3075   ┆ JFK    ┆ CVG  ┆ N665MQ  │\n",
            "│ …    ┆ …     ┆ …   ┆ …        ┆ … ┆ …      ┆ …      ┆ …    ┆ …       │\n",
            "│ 2013 ┆ 9     ┆ 2   ┆ 2302     ┆ … ┆ 1103   ┆ JFK    ┆ SJU  ┆ N618JB  │\n",
            "│ 2013 ┆ 9     ┆ 11  ┆ 1850     ┆ … ┆ 5940   ┆ EWR    ┆ SAV  ┆ N13968  │\n",
            "│ 2013 ┆ 9     ┆ 12  ┆ 1700     ┆ … ┆ 2297   ┆ LGA    ┆ MIA  ┆ N3JUAA  │\n",
            "│ 2013 ┆ 9     ┆ 23  ┆ 2251     ┆ … ┆ 471    ┆ EWR    ┆ SFO  ┆ N515UA  │\n",
            "│ 2013 ┆ 9     ┆ 26  ┆ 2330     ┆ … ┆ 4509   ┆ EWR    ┆ PWM  ┆ N11121  │\n",
            "└──────┴───────┴─────┴──────────┴───┴────────┴────────┴──────┴─────────┘\n"
          ]
        }
      ]
    },
    {
      "cell_type": "code",
      "source": [
        "result = ctx.execute(\"\"\"\n",
        "SELECT\n",
        "  origin,\n",
        "  AVG(dep_delay) AS avg_dep_delay\n",
        "FROM flights\n",
        "WHERE dep_delay IS NOT NULL\n",
        "GROUP BY origin\n",
        "ORDER BY avg_dep_delay DESC\n",
        "\"\"\")\n",
        "print(result)"
      ],
      "metadata": {
        "colab": {
          "base_uri": "https://localhost:8080/"
        },
        "id": "R5vCaO0jx2u_",
        "outputId": "4b4e3e1c-dcdd-42da-ab58-023194133617"
      },
      "execution_count": 18,
      "outputs": [
        {
          "output_type": "stream",
          "name": "stdout",
          "text": [
            "shape: (3, 2)\n",
            "┌────────┬───────────────┐\n",
            "│ origin ┆ avg_dep_delay │\n",
            "│ ---    ┆ ---           │\n",
            "│ str    ┆ f64           │\n",
            "╞════════╪═══════════════╡\n",
            "│ EWR    ┆ 15.107954     │\n",
            "│ JFK    ┆ 12.112159     │\n",
            "│ LGA    ┆ 10.346876     │\n",
            "└────────┴───────────────┘\n"
          ]
        }
      ]
    },
    {
      "cell_type": "code",
      "source": [
        "result = ctx.execute(\"\"\"\n",
        "SELECT\n",
        "  month,\n",
        "  COUNT(*) AS num_flights\n",
        "FROM flights\n",
        "GROUP BY month\n",
        "ORDER BY num_flights DESC\n",
        "LIMIT 1\n",
        "\"\"\")\n",
        "print(result)"
      ],
      "metadata": {
        "colab": {
          "base_uri": "https://localhost:8080/"
        },
        "id": "PLtPIZF-x47f",
        "outputId": "893842b9-7457-4759-e62d-58f68b8df635"
      },
      "execution_count": 19,
      "outputs": [
        {
          "output_type": "stream",
          "name": "stdout",
          "text": [
            "shape: (1, 2)\n",
            "┌───────┬─────────────┐\n",
            "│ month ┆ num_flights │\n",
            "│ ---   ┆ ---         │\n",
            "│ i64   ┆ u32         │\n",
            "╞═══════╪═════════════╡\n",
            "│ 7     ┆ 29425       │\n",
            "└───────┴─────────────┘\n"
          ]
        }
      ]
    },
    {
      "cell_type": "code",
      "source": [
        "result = ctx.execute(\"\"\"\n",
        "WITH base AS (\n",
        "  SELECT\n",
        "    f.carrier,\n",
        "    a.name AS airline_name,\n",
        "    COUNT(*) AS total_flights,\n",
        "    SUM(CASE WHEN f.dep_delay <= 15 THEN 1 ELSE 0 END) AS on_time_flights\n",
        "  FROM flights AS f\n",
        "  LEFT JOIN airlines AS a\n",
        "    ON a.carrier = f.carrier\n",
        "  WHERE f.dep_delay IS NOT NULL\n",
        "  GROUP BY f.carrier, a.name\n",
        ")\n",
        "SELECT\n",
        "  carrier,\n",
        "  airline_name,\n",
        "  total_flights,\n",
        "  on_time_flights,\n",
        "  100.0 * on_time_flights / NULLIF(total_flights, 0) AS on_time_rate_pct\n",
        "FROM base\n",
        "ORDER BY on_time_rate_pct DESC\n",
        "\"\"\")\n",
        "print(result)"
      ],
      "metadata": {
        "colab": {
          "base_uri": "https://localhost:8080/"
        },
        "id": "82rDMv8gx630",
        "outputId": "a8c319c0-4f04-437f-c7b0-c24bb8b2eb62"
      },
      "execution_count": 22,
      "outputs": [
        {
          "output_type": "stream",
          "name": "stdout",
          "text": [
            "shape: (16, 5)\n",
            "┌─────────┬─────────────────────────────┬───────────────┬─────────────────┬──────────────────┐\n",
            "│ carrier ┆ airline_name                ┆ total_flights ┆ on_time_flights ┆ on_time_rate_pct │\n",
            "│ ---     ┆ ---                         ┆ ---           ┆ ---             ┆ ---              │\n",
            "│ str     ┆ str                         ┆ u32           ┆ i32             ┆ f64              │\n",
            "╞═════════╪═════════════════════════════╪═══════════════╪═════════════════╪══════════════════╡\n",
            "│ HA      ┆ Hawaiian Airlines Inc.      ┆ 342           ┆ 318             ┆ 92.982456        │\n",
            "│ US      ┆ US Airways Inc.             ┆ 19873         ┆ 17453           ┆ 87.822674        │\n",
            "│ AS      ┆ Alaska Airlines Inc.        ┆ 712           ┆ 618             ┆ 86.797753        │\n",
            "│ AA      ┆ American Airlines Inc.      ┆ 32093         ┆ 26981           ┆ 84.071293        │\n",
            "│ DL      ┆ Delta Air Lines Inc.        ┆ 47761         ┆ 39967           ┆ 83.681246        │\n",
            "│ …       ┆ …                           ┆ …             ┆ …               ┆ …                │\n",
            "│ FL      ┆ AirTran Airways Corporation ┆ 3187          ┆ 2337            ┆ 73.32915         │\n",
            "│ WN      ┆ Southwest Airlines Co.      ┆ 12083         ┆ 8833            ┆ 73.102706        │\n",
            "│ F9      ┆ Frontier Airlines Inc.      ┆ 682           ┆ 490             ┆ 71.847507        │\n",
            "│ YV      ┆ Mesa Airlines Inc.          ┆ 545           ┆ 389             ┆ 71.376147        │\n",
            "│ EV      ┆ ExpressJet Airlines Inc.    ┆ 51356         ┆ 35712           ┆ 69.538126        │\n",
            "└─────────┴─────────────────────────────┴───────────────┴─────────────────┴──────────────────┘\n"
          ]
        }
      ]
    },
    {
      "cell_type": "code",
      "source": [
        "result = ctx.execute(\"\"\"\n",
        "SELECT\n",
        "  f.year, f.month, f.day,\n",
        "  f.dep_time, f.arr_time,\n",
        "  f.carrier, a.name AS airline_name,\n",
        "  f.flight, f.origin, f.dest, f.tailnum\n",
        "FROM flights AS f\n",
        "LEFT JOIN airlines AS a\n",
        "  ON a.carrier = f.carrier\n",
        "ORDER BY f.year, f.month, f.day, f.dep_time NULLS LAST\n",
        "LIMIT 100\n",
        "\"\"\")\n",
        "print(result)"
      ],
      "metadata": {
        "colab": {
          "base_uri": "https://localhost:8080/"
        },
        "id": "NDhwhEPNyLnQ",
        "outputId": "be673d88-9854-4225-e9f6-e0c495811c5b"
      },
      "execution_count": 23,
      "outputs": [
        {
          "output_type": "stream",
          "name": "stdout",
          "text": [
            "shape: (100, 11)\n",
            "┌──────┬───────┬─────┬──────────┬───┬────────┬────────┬──────┬─────────┐\n",
            "│ year ┆ month ┆ day ┆ dep_time ┆ … ┆ flight ┆ origin ┆ dest ┆ tailnum │\n",
            "│ ---  ┆ ---   ┆ --- ┆ ---      ┆   ┆ ---    ┆ ---    ┆ ---  ┆ ---     │\n",
            "│ i64  ┆ i64   ┆ i64 ┆ i64      ┆   ┆ i64    ┆ str    ┆ str  ┆ str     │\n",
            "╞══════╪═══════╪═════╪══════════╪═══╪════════╪════════╪══════╪═════════╡\n",
            "│ 2013 ┆ 1     ┆ 1   ┆ 517      ┆ … ┆ 1545   ┆ EWR    ┆ IAH  ┆ N14228  │\n",
            "│ 2013 ┆ 1     ┆ 1   ┆ 533      ┆ … ┆ 1714   ┆ LGA    ┆ IAH  ┆ N24211  │\n",
            "│ 2013 ┆ 1     ┆ 1   ┆ 542      ┆ … ┆ 1141   ┆ JFK    ┆ MIA  ┆ N619AA  │\n",
            "│ 2013 ┆ 1     ┆ 1   ┆ 544      ┆ … ┆ 725    ┆ JFK    ┆ BQN  ┆ N804JB  │\n",
            "│ 2013 ┆ 1     ┆ 1   ┆ 554      ┆ … ┆ 461    ┆ LGA    ┆ ATL  ┆ N668DN  │\n",
            "│ …    ┆ …     ┆ …   ┆ …        ┆ … ┆ …      ┆ …      ┆ …    ┆ …       │\n",
            "│ 2013 ┆ 1     ┆ 1   ┆ 746      ┆ … ┆ 1668   ┆ EWR    ┆ SFO  ┆ N24224  │\n",
            "│ 2013 ┆ 1     ┆ 1   ┆ 749      ┆ … ┆ 3737   ┆ EWR    ┆ ORD  ┆ N508MQ  │\n",
            "│ 2013 ┆ 1     ┆ 1   ┆ 752      ┆ … ┆ 2263   ┆ LGA    ┆ MCO  ┆ N325US  │\n",
            "│ 2013 ┆ 1     ┆ 1   ┆ 752      ┆ … ┆ 477    ┆ LGA    ┆ DEN  ┆ N511UA  │\n",
            "│ 2013 ┆ 1     ┆ 1   ┆ 752      ┆ … ┆ 1733   ┆ LGA    ┆ CLT  ┆ N543UW  │\n",
            "└──────┴───────┴─────┴──────────┴───┴────────┴────────┴──────┴─────────┘\n"
          ]
        }
      ]
    },
    {
      "cell_type": "code",
      "source": [
        "result = ctx.execute(\"\"\"\n",
        "SELECT\n",
        "  f.carrier,\n",
        "  al.name AS airline_name,\n",
        "  AVG(f.year - p.year) AS avg_plane_age_years,\n",
        "  COUNT(*) AS flights_count\n",
        "FROM flights AS f\n",
        "LEFT JOIN planes AS p\n",
        "  ON p.tailnum = f.tailnum\n",
        "LEFT JOIN airlines AS al\n",
        "  ON al.carrier = f.carrier\n",
        "WHERE p.year IS NOT NULL    -- only when plane build year is known\n",
        "GROUP BY f.carrier, al.name\n",
        "HAVING COUNT(*) > 0\n",
        "ORDER BY avg_plane_age_years DESC\n",
        "\"\"\")\n",
        "print(result)"
      ],
      "metadata": {
        "colab": {
          "base_uri": "https://localhost:8080/"
        },
        "id": "Er0FQhjiyOxI",
        "outputId": "74be4e7f-04c6-429c-f314-2d8585ac9de9"
      },
      "execution_count": 26,
      "outputs": [
        {
          "output_type": "stream",
          "name": "stdout",
          "text": [
            "shape: (16, 4)\n",
            "┌─────────┬─────────────────────────────┬─────────────────────┬───────────────┐\n",
            "│ carrier ┆ airline_name                ┆ avg_plane_age_years ┆ flights_count │\n",
            "│ ---     ┆ ---                         ┆ ---                 ┆ ---           │\n",
            "│ str     ┆ str                         ┆ f64                 ┆ u32           │\n",
            "╞═════════╪═════════════════════════════╪═════════════════════╪═══════════════╡\n",
            "│ MQ      ┆ Envoy Air                   ┆ 35.319              ┆ 1000          │\n",
            "│ AA      ┆ American Airlines Inc.      ┆ 25.869426           ┆ 9979          │\n",
            "│ DL      ┆ Delta Air Lines Inc.        ┆ 16.372169           ┆ 47473         │\n",
            "│ UA      ┆ United Air Lines Inc.       ┆ 13.207691           ┆ 56117         │\n",
            "│ FL      ┆ AirTran Airways Corporation ┆ 11.385829           ┆ 2978          │\n",
            "│ …       ┆ …                           ┆ …                   ┆ …             │\n",
            "│ B6      ┆ JetBlue Airways             ┆ 6.686702            ┆ 52956         │\n",
            "│ F9      ┆ Frontier Airlines Inc.      ┆ 4.87874             ┆ 635           │\n",
            "│ VX      ┆ Virgin America              ┆ 4.473643            ┆ 5065          │\n",
            "│ AS      ┆ Alaska Airlines Inc.        ┆ 3.33662             ┆ 710           │\n",
            "│ HA      ┆ Hawaiian Airlines Inc.      ┆ 1.548387            ┆ 310           │\n",
            "└─────────┴─────────────────────────────┴─────────────────────┴───────────────┘\n"
          ]
        }
      ]
    },
    {
      "cell_type": "code",
      "source": [
        "result = ctx.execute(\"\"\"\n",
        "SELECT\n",
        "  f.year, f.month, f.day, f.hour,\n",
        "  f.origin, f.dest, f.dep_delay,\n",
        "  w.wind_speed, w.precip\n",
        "FROM flights AS f\n",
        "JOIN weather AS w\n",
        "  ON w.origin = f.origin\n",
        " AND w.time_hour = f.time_hour\n",
        "WHERE f.dep_delay > 30\n",
        "  AND (w.wind_speed > 20 OR w.precip > 0.1)\n",
        "ORDER BY f.dep_delay DESC\n",
        "LIMIT 100\n",
        "\"\"\")\n",
        "print(result)"
      ],
      "metadata": {
        "colab": {
          "base_uri": "https://localhost:8080/"
        },
        "id": "oCrdPKZfyeFp",
        "outputId": "86893a8d-3773-4d2f-bf15-99debdca0ea5"
      },
      "execution_count": 27,
      "outputs": [
        {
          "output_type": "stream",
          "name": "stdout",
          "text": [
            "shape: (100, 9)\n",
            "┌──────┬───────┬─────┬──────┬───┬──────┬───────────┬────────────┬────────┐\n",
            "│ year ┆ month ┆ day ┆ hour ┆ … ┆ dest ┆ dep_delay ┆ wind_speed ┆ precip │\n",
            "│ ---  ┆ ---   ┆ --- ┆ ---  ┆   ┆ ---  ┆ ---       ┆ ---        ┆ ---    │\n",
            "│ i64  ┆ i64   ┆ i64 ┆ i64  ┆   ┆ str  ┆ i64       ┆ f64        ┆ f64    │\n",
            "╞══════╪═══════╪═════╪══════╪═══╪══════╪═══════════╪════════════╪════════╡\n",
            "│ 2013 ┆ 4     ┆ 10  ┆ 19   ┆ … ┆ TPA  ┆ 960       ┆ 31.07106   ┆ 0.11   │\n",
            "│ 2013 ┆ 12    ┆ 14  ┆ 18   ┆ … ┆ TPA  ┆ 825       ┆ 20.71404   ┆ 0.01   │\n",
            "│ 2013 ┆ 4     ┆ 19  ┆ 17   ┆ … ┆ LAS  ┆ 797       ┆ 25.31716   ┆ 0.0    │\n",
            "│ 2013 ┆ 4     ┆ 19  ┆ 17   ┆ … ┆ IAH  ┆ 761       ┆ 25.31716   ┆ 0.0    │\n",
            "│ 2013 ┆ 4     ┆ 10  ┆ 19   ┆ … ┆ MCO  ┆ 639       ┆ 33.37262   ┆ 0.14   │\n",
            "│ …    ┆ …     ┆ …   ┆ …    ┆ … ┆ …    ┆ …         ┆ …          ┆ …      │\n",
            "│ 2013 ┆ 9     ┆ 12  ┆ 19   ┆ … ┆ MIA  ┆ 285       ┆ 18.41248   ┆ 0.23   │\n",
            "│ 2013 ┆ 2     ┆ 17  ┆ 9    ┆ … ┆ BOS  ┆ 284       ┆ 26.46794   ┆ 0.0    │\n",
            "│ 2013 ┆ 3     ┆ 18  ┆ 19   ┆ … ┆ CLT  ┆ 284       ┆ 20.71404   ┆ 0.05   │\n",
            "│ 2013 ┆ 6     ┆ 7   ┆ 19   ┆ … ┆ FLL  ┆ 282       ┆ 16.11092   ┆ 0.48   │\n",
            "│ 2013 ┆ 6     ┆ 13  ┆ 20   ┆ … ┆ MIA  ┆ 282       ┆ 27.61872   ┆ 0.34   │\n",
            "└──────┴───────┴─────┴──────┴───┴──────┴───────────┴────────────┴────────┘\n"
          ]
        }
      ]
    },
    {
      "cell_type": "code",
      "source": [
        "result = ctx.execute(\"\"\"\n",
        "SELECT\n",
        "  COALESCE(p.manufacturer, 'Unknown') AS manufacturer,\n",
        "  COALESCE(p.model, 'Unknown') AS model,\n",
        "  COUNT(*) AS num_flights\n",
        "FROM flights AS f\n",
        "LEFT JOIN planes AS p\n",
        "  ON p.tailnum = f.tailnum\n",
        "GROUP BY manufacturer, model\n",
        "ORDER BY num_flights DESC\n",
        "LIMIT 10\n",
        "\"\"\")\n",
        "print(result)"
      ],
      "metadata": {
        "colab": {
          "base_uri": "https://localhost:8080/"
        },
        "id": "nqH_qVvkygto",
        "outputId": "43007d80-6bf7-4a19-8131-792861e67a94"
      },
      "execution_count": 28,
      "outputs": [
        {
          "output_type": "stream",
          "name": "stdout",
          "text": [
            "shape: (10, 3)\n",
            "┌──────────────────┬─────────────────┬─────────────┐\n",
            "│ manufacturer     ┆ model           ┆ num_flights │\n",
            "│ ---              ┆ ---             ┆ ---         │\n",
            "│ str              ┆ str             ┆ u32         │\n",
            "╞══════════════════╪═════════════════╪═════════════╡\n",
            "│ Unknown          ┆ Unknown         ┆ 52606       │\n",
            "│ AIRBUS           ┆ A320-232        ┆ 31278       │\n",
            "│ EMBRAER          ┆ EMB-145LR       ┆ 28027       │\n",
            "│ EMBRAER          ┆ ERJ 190-100 IGW ┆ 23716       │\n",
            "│ AIRBUS INDUSTRIE ┆ A320-232        ┆ 14553       │\n",
            "│ EMBRAER          ┆ EMB-145XR       ┆ 14051       │\n",
            "│ BOEING           ┆ 737-824         ┆ 13809       │\n",
            "│ BOMBARDIER INC   ┆ CL-600-2D24     ┆ 11807       │\n",
            "│ BOEING           ┆ 737-7H4         ┆ 10389       │\n",
            "│ BOEING           ┆ 757-222         ┆ 9150        │\n",
            "└──────────────────┴─────────────────┴─────────────┘\n"
          ]
        }
      ]
    },
    {
      "cell_type": "code",
      "source": [
        "result = ctx.execute(\"\"\"\n",
        "WITH route_stats AS (\n",
        "  SELECT\n",
        "    f.origin,\n",
        "    f.dest,\n",
        "    COUNT(*) AS total_flights,\n",
        "    AVG(f.dep_delay) AS avg_dep_delay,\n",
        "    100.0 * SUM(CASE WHEN f.dep_delay > 30 THEN 1 ELSE 0 END) / COUNT(*) AS pct_delayed_gt_30\n",
        "  FROM flights AS f\n",
        "  WHERE f.dep_delay IS NOT NULL\n",
        "  GROUP BY f.origin, f.dest\n",
        ")\n",
        "SELECT\n",
        "  rs.origin,\n",
        "  ao.name AS origin_name,\n",
        "  rs.dest,\n",
        "  ad.name AS dest_name,\n",
        "  rs.total_flights,\n",
        "  rs.avg_dep_delay,\n",
        "  rs.pct_delayed_gt_30\n",
        "FROM route_stats AS rs\n",
        "LEFT JOIN airports AS ao\n",
        "  ON ao.faa = rs.origin\n",
        "LEFT JOIN airports AS ad\n",
        "  ON ad.faa = rs.dest\n",
        "ORDER BY rs.total_flights DESC\n",
        "LIMIT 10\n",
        "\"\"\")\n",
        "print(result)"
      ],
      "metadata": {
        "colab": {
          "base_uri": "https://localhost:8080/"
        },
        "id": "QZsDAz3Vyiow",
        "outputId": "9c3b6574-1c7a-4f94-841b-c8b1f11daaa6"
      },
      "execution_count": 29,
      "outputs": [
        {
          "output_type": "stream",
          "name": "stdout",
          "text": [
            "shape: (10, 7)\n",
            "┌────────┬────────────────┬──────┬────────────────┬───────────────┬───────────────┬────────────────┐\n",
            "│ origin ┆ origin_name    ┆ dest ┆ dest_name      ┆ total_flights ┆ avg_dep_delay ┆ pct_delayed_gt │\n",
            "│ ---    ┆ ---            ┆ ---  ┆ ---            ┆ ---           ┆ ---           ┆ _30            │\n",
            "│ str    ┆ str            ┆ str  ┆ str            ┆ u32           ┆ f64           ┆ ---            │\n",
            "│        ┆                ┆      ┆                ┆               ┆               ┆ f64            │\n",
            "╞════════╪════════════════╪══════╪════════════════╪═══════════════╪═══════════════╪════════════════╡\n",
            "│ JFK    ┆ John F Kennedy ┆ LAX  ┆ Los Angeles    ┆ 11196         ┆ 8.522508      ┆ 9.88746        │\n",
            "│        ┆ Intl           ┆      ┆ Intl           ┆               ┆               ┆                │\n",
            "│ LGA    ┆ La Guardia     ┆ ATL  ┆ Hartsfield     ┆ 10082         ┆ 11.448621     ┆ 12.467764      │\n",
            "│        ┆                ┆      ┆ Jackson        ┆               ┆               ┆                │\n",
            "│        ┆                ┆      ┆ Atlanta Intl   ┆               ┆               ┆                │\n",
            "│ LGA    ┆ La Guardia     ┆ ORD  ┆ Chicago Ohare  ┆ 8548          ┆ 10.740758     ┆ 13.827796      │\n",
            "│        ┆                ┆      ┆ Intl           ┆               ┆               ┆                │\n",
            "│ JFK    ┆ John F Kennedy ┆ SFO  ┆ San Francisco  ┆ 8138          ┆ 11.952691     ┆ 12.214303      │\n",
            "│        ┆ Intl           ┆      ┆ Intl           ┆               ┆               ┆                │\n",
            "│ LGA    ┆ La Guardia     ┆ CLT  ┆ Charlotte      ┆ 5969          ┆ 8.965321      ┆ 12.347127      │\n",
            "│        ┆                ┆      ┆ Douglas Intl   ┆               ┆               ┆                │\n",
            "│ EWR    ┆ Newark Liberty ┆ ORD  ┆ Chicago Ohare  ┆ 5851          ┆ 14.644163     ┆ 16.680909      │\n",
            "│        ┆ Intl           ┆      ┆ Intl           ┆               ┆               ┆                │\n",
            "│ JFK    ┆ John F Kennedy ┆ BOS  ┆ General Edward ┆ 5786          ┆ 11.694953     ┆ 14.033875      │\n",
            "│        ┆ Intl           ┆      ┆ Lawrence Logan ┆               ┆               ┆                │\n",
            "│        ┆                ┆      ┆ Intl           ┆               ┆               ┆                │\n",
            "│ LGA    ┆ La Guardia     ┆ MIA  ┆ Miami Intl     ┆ 5725          ┆ 7.361747      ┆ 9.554585       │\n",
            "│ JFK    ┆ John F Kennedy ┆ MCO  ┆ Orlando Intl   ┆ 5434          ┆ 10.601583     ┆ 12.789842      │\n",
            "│        ┆ Intl           ┆      ┆                ┆               ┆               ┆                │\n",
            "│ EWR    ┆ Newark Liberty ┆ BOS  ┆ General Edward ┆ 5251          ┆ 12.54561      ┆ 15.120929      │\n",
            "│        ┆ Intl           ┆      ┆ Lawrence Logan ┆               ┆               ┆                │\n",
            "│        ┆                ┆      ┆ Intl           ┆               ┆               ┆                │\n",
            "└────────┴────────────────┴──────┴────────────────┴───────────────┴───────────────┴────────────────┘\n"
          ]
        }
      ]
    },
    {
      "cell_type": "code",
      "source": [
        "polars_result = (\n",
        "    flights\n",
        "    .filter(pl.col(\"dep_delay\").is_not_null())\n",
        "    .group_by(\"origin\")\n",
        "    .agg(pl.col(\"dep_delay\").mean().alias(\"avg_dep_delay\"))\n",
        "    .sort(\"avg_dep_delay\", descending=True)\n",
        ")\n",
        "print(polars_result)"
      ],
      "metadata": {
        "colab": {
          "base_uri": "https://localhost:8080/"
        },
        "id": "EpOHTHhoymNQ",
        "outputId": "7c5b9a90-21f3-411c-9529-57367060fb43"
      },
      "execution_count": 30,
      "outputs": [
        {
          "output_type": "stream",
          "name": "stdout",
          "text": [
            "shape: (3, 2)\n",
            "┌────────┬───────────────┐\n",
            "│ origin ┆ avg_dep_delay │\n",
            "│ ---    ┆ ---           │\n",
            "│ str    ┆ f64           │\n",
            "╞════════╪═══════════════╡\n",
            "│ EWR    ┆ 15.107954     │\n",
            "│ JFK    ┆ 12.112159     │\n",
            "│ LGA    ┆ 10.346876     │\n",
            "└────────┴───────────────┘\n"
          ]
        }
      ]
    }
  ]
}